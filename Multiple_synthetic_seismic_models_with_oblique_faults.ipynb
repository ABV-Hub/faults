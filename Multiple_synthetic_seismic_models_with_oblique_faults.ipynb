{
 "cells": [
  {
   "cell_type": "markdown",
   "metadata": {},
   "source": [
    "## Multiple synthetic seismic models with vertical fault"
   ]
  },
  {
   "cell_type": "markdown",
   "metadata": {},
   "source": [
    "I took [Agile Scientific](https://agilescientific.com/)'s [x lines of code, Wedge model](https://github.com/agile-geoscience/xlines/blob/master/notebooks/00_Synthetic_wedge_model.ipynb) and adapt it to make 100 synthetic models: 10 impedance models x 10 wavelets x 10 random noise fields + 1 fault. **N.B. code is optimized for Python 2.7**"
   ]
  },
  {
   "cell_type": "markdown",
   "metadata": {},
   "source": [
    "#### preliminaries"
   ]
  },
  {
   "cell_type": "code",
   "execution_count": 1,
   "metadata": {
    "collapsed": true
   },
   "outputs": [],
   "source": [
    "import matplotlib.pyplot as plt\n",
    "import numpy as np\n",
    "import scipy as sp\n",
    "import copy\n",
    "import bruges\n",
    "%matplotlib inline"
   ]
  },
  {
   "cell_type": "markdown",
   "metadata": {},
   "source": [
    "#### make an initial layered model"
   ]
  },
  {
   "cell_type": "code",
   "execution_count": 2,
   "metadata": {
    "collapsed": true
   },
   "outputs": [],
   "source": [
    "model = np.zeros((50,49), dtype=np.int) \n",
    "model[8:16,:]=1\n",
    "model[16:24,:]=2\n",
    "model[24:32,:]=3\n",
    "model[32:40,:]=4\n",
    "model[40:,:]=5"
   ]
  },
  {
   "cell_type": "code",
   "execution_count": 3,
   "metadata": {},
   "outputs": [
    {
     "data": {
      "image/png": "[encoded data removed]",
      "text/plain": [
       "<matplotlib.figure.Figure at 0x1102c1990>"
      ]
     },
     "metadata": {},
     "output_type": "display_data"
    },
    {
     "name": "stdout",
     "output_type": "stream",
     "text": [
      "(50, 49)\n"
     ]
    }
   ],
   "source": [
    "plt.imshow(model, cmap='viridis', aspect=1)\n",
    "plt.show()\n",
    "print np.shape(model)"
   ]
  },
  {
   "cell_type": "markdown",
   "metadata": {},
   "source": [
    "#### make some Vp-rho pairs (rock 0, rock 1, ... , rock5)"
   ]
  },
  {
   "cell_type": "code",
   "execution_count": 4,
   "metadata": {
    "collapsed": true
   },
   "outputs": [],
   "source": [
    "rocks = np.array([[2700, 2750],  # Vp, rho\n",
    "                  [2400, 2450],\n",
    "                  [2600, 2650], \n",
    "                  [2400, 2450],\n",
    "                  [2800, 3000], \n",
    "                  [3100, 3200],])"
   ]
  },
  {
   "cell_type": "markdown",
   "metadata": {},
   "source": [
    "#### create 10 slightly different variations of the Vp-rho pairs in the next tow cells"
   ]
  },
  {
   "cell_type": "code",
   "execution_count": 5,
   "metadata": {},
   "outputs": [
    {
     "name": "stdout",
     "output_type": "stream",
     "text": [
      "(10, 6, 2)\n"
     ]
    }
   ],
   "source": [
    "r = np.random.RandomState(1234)\n",
    "rnd = r.rand(10,6,2)*0.2\n",
    "print np.shape(rnd)\n"
   ]
  },
  {
   "cell_type": "code",
   "execution_count": 6,
   "metadata": {},
   "outputs": [
    {
     "name": "stdout",
     "output_type": "stream",
     "text": [
      "(6, 10, 2)\n"
     ]
    }
   ],
   "source": [
    "mrocks = np.array([rocks + rocks*rn for rn in rnd], dtype=np.int)\n",
    "manyrocks = np.rollaxis(mrocks,1,0)\n",
    "print np.shape(manyrocks)"
   ]
  },
  {
   "cell_type": "markdown",
   "metadata": {},
   "source": [
    "####  create 10 earth models by combining Vp-rho pairs with the layered model, dispaly a pair"
   ]
  },
  {
   "cell_type": "code",
   "execution_count": 7,
   "metadata": {},
   "outputs": [
    {
     "name": "stdout",
     "output_type": "stream",
     "text": [
      "(10, 50, 49, 2)\n"
     ]
    }
   ],
   "source": [
    "earth = manyrocks[model]\n",
    "earth = np.rollaxis(earth,2,0)\n",
    "print np.shape(earth)"
   ]
  },
  {
   "cell_type": "code",
   "execution_count": 8,
   "metadata": {},
   "outputs": [
    {
     "data": {
      "image/png": "[encoded data removed]",
      "text/plain": [
       "<matplotlib.figure.Figure at 0x112312950>"
      ]
     },
     "metadata": {},
     "output_type": "display_data"
    }
   ],
   "source": [
    "plt.figure(figsize=(10, 10))\n",
    "ax1 = plt.subplot(121)\n",
    "ax2 = plt.subplot(122)\n",
    "\n",
    "ax1.imshow(earth[3,:,:,0],cmap='viridis', aspect=1)\n",
    "ax2.imshow(earth[3,:,:,1],cmap='viridis', aspect=1)\n",
    "\n",
    "plt.show()"
   ]
  },
  {
   "cell_type": "markdown",
   "metadata": {},
   "source": [
    "#### create 10 impedance models from the above earht models by multiplying Vp and Rho (last axis), display a few"
   ]
  },
  {
   "cell_type": "code",
   "execution_count": 9,
   "metadata": {},
   "outputs": [
    {
     "name": "stdout",
     "output_type": "stream",
     "text": [
      "(10, 50, 49)\n"
     ]
    }
   ],
   "source": [
    "impedances = [np.apply_along_axis(np.product, -1, e).astype(float) for e in earth]# Python 2\n",
    "print np.shape(impedances)"
   ]
  },
  {
   "cell_type": "code",
   "execution_count": 10,
   "metadata": {
    "collapsed": true
   },
   "outputs": [],
   "source": [
    "unshifted = impedances[8]\n",
    "up = sp.ndimage.interpolation.shift(unshifted, (5,0), cval=unshifted[0,0]*0.9)\n",
    "down = sp.ndimage.interpolation.shift(unshifted, (-5,0), cval=unshifted[0,-1]*0.8) "
   ]
  },
  {
   "cell_type": "code",
   "execution_count": 11,
   "metadata": {},
   "outputs": [
    {
     "data": {
      "image/png": "[encoded data removed]",
      "text/plain": [
       "<matplotlib.figure.Figure at 0x112305a90>"
      ]
     },
     "metadata": {},
     "output_type": "display_data"
    }
   ],
   "source": [
    "plt.figure(figsize=(16, 10))\n",
    "ax1 = plt.subplot(131)\n",
    "ax2 = plt.subplot(132)\n",
    "ax3 = plt.subplot(133)\n",
    "\n",
    "ax1.imshow(unshifted, cmap='gray', vmin = np.amin(unshifted), vmax = np.amax(unshifted), aspect=1)\n",
    "ax2.imshow(up, cmap='gray', vmin = np.amin(unshifted), vmax = np.amax(unshifted), aspect=1)\n",
    "ax3.imshow(down, cmap='gray', vmin = np.amin(unshifted), vmax = np.amax(unshifted), aspect=1)\n",
    "\n",
    "plt.show()"
   ]
  },
  {
   "cell_type": "code",
   "execution_count": 12,
   "metadata": {
    "collapsed": true
   },
   "outputs": [],
   "source": [
    "normal = copy.deepcopy(unshifted)\n",
    "reverse = copy.deepcopy(unshifted)\n",
    "\n",
    "normal[np.triu_indices(49)] = up[np.triu_indices(49)]\n",
    "reverse[np.triu_indices(49)] = down[np.triu_indices(49)]\n"
   ]
  },
  {
   "cell_type": "code",
   "execution_count": 13,
   "metadata": {},
   "outputs": [
    {
     "data": {
      "image/png": "[encoded data removed]",
      "text/plain": [
       "<matplotlib.figure.Figure at 0x112305510>"
      ]
     },
     "metadata": {},
     "output_type": "display_data"
    }
   ],
   "source": [
    "fig = plt.figure(figsize=(16, 10))\n",
    "ax1 = plt.subplot(131)\n",
    "ax2 = plt.subplot(132)\n",
    "ax3 = plt.subplot(133)\n",
    "\n",
    "\n",
    "ax1.imshow(unshifted, cmap='gray', vmin = np.amin(unshifted), vmax = np.amax(unshifted), aspect=1, interpolation = 'none')\n",
    "ax2.imshow(normal, cmap='gray', vmin = np.amin(unshifted), vmax = np.amax(unshifted), aspect=1, interpolation = 'none')\n",
    "ax3.imshow(reverse,cmap='gray', vmin = np.amin(unshifted), vmax = np.amax(unshifted), aspect=1, interpolation = 'none')\n",
    "plt.show()\n",
    "\n",
    "fig.savefig('faults.png', dpi=200, bbox_inches='tight', pad_inches=0.4)"
   ]
  },
  {
   "cell_type": "code",
   "execution_count": 14,
   "metadata": {},
   "outputs": [
    {
     "data": {
      "text/plain": [
       "50"
      ]
     },
     "execution_count": 14,
     "metadata": {},
     "output_type": "execute_result"
    }
   ],
   "source": [
    "len(unshifted)"
   ]
  },
  {
   "cell_type": "code",
   "execution_count": null,
   "metadata": {
    "collapsed": true
   },
   "outputs": [],
   "source": []
  }
 ],
 "metadata": {
  "anaconda-cloud": {},
  "kernelspec": {
   "display_name": "py36",
   "language": "python",
   "name": "conda-env-py36-py"
  },
  "language_info": {
   "codemirror_mode": {
    "name": "ipython",
    "version": 3
   },
   "file_extension": ".py",
   "mimetype": "text/x-python",
   "name": "python",
   "nbconvert_exporter": "python",
   "pygments_lexer": "ipython3",
   "version": "3.6.8"
  }
 },
 "nbformat": 4,
 "nbformat_minor": 2
}
